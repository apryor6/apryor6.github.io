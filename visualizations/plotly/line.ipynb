{
 "cells": [
  {
   "cell_type": "markdown",
   "metadata": {},
   "source": [
    "# Line Chart\n",
    "Interactive line charts with `plotly` and `cufflinks`  \n",
    "\n",
    "dataset: `cufflinks.datagen.lines()`"
   ]
  },
  {
   "cell_type": "code",
   "execution_count": 1,
   "metadata": {
    "collapsed": true
   },
   "outputs": [],
   "source": [
    "import plotly.plotly as py\n",
    "import cufflinks as cf\n",
    "import pandas as pd\n",
    "import numpy as np\n",
    "import plotly.graph_objs as go\n",
    "%matplotlib inline"
   ]
  },
  {
   "cell_type": "code",
   "execution_count": 2,
   "metadata": {},
   "outputs": [
    {
     "data": {
      "text/html": [
       "<div>\n",
       "<style>\n",
       "    .dataframe thead tr:only-child th {\n",
       "        text-align: right;\n",
       "    }\n",
       "\n",
       "    .dataframe thead th {\n",
       "        text-align: left;\n",
       "    }\n",
       "\n",
       "    .dataframe tbody tr th {\n",
       "        vertical-align: top;\n",
       "    }\n",
       "</style>\n",
       "<table border=\"1\" class=\"dataframe\">\n",
       "  <thead>\n",
       "    <tr style=\"text-align: right;\">\n",
       "      <th></th>\n",
       "      <th>IGV.MQ</th>\n",
       "      <th>TAE.HZ</th>\n",
       "      <th>IIQ.AJ</th>\n",
       "      <th>FQU.VL</th>\n",
       "      <th>BJX.ZX</th>\n",
       "    </tr>\n",
       "  </thead>\n",
       "  <tbody>\n",
       "    <tr>\n",
       "      <th>2015-01-01</th>\n",
       "      <td>-1.765827</td>\n",
       "      <td>-0.509427</td>\n",
       "      <td>-0.244604</td>\n",
       "      <td>-0.408546</td>\n",
       "      <td>-0.966016</td>\n",
       "    </tr>\n",
       "    <tr>\n",
       "      <th>2015-01-02</th>\n",
       "      <td>-1.616644</td>\n",
       "      <td>-1.765813</td>\n",
       "      <td>-1.722173</td>\n",
       "      <td>-0.091165</td>\n",
       "      <td>-0.759200</td>\n",
       "    </tr>\n",
       "    <tr>\n",
       "      <th>2015-01-03</th>\n",
       "      <td>-0.327747</td>\n",
       "      <td>-1.605062</td>\n",
       "      <td>-1.044393</td>\n",
       "      <td>-0.867000</td>\n",
       "      <td>-0.228630</td>\n",
       "    </tr>\n",
       "    <tr>\n",
       "      <th>2015-01-04</th>\n",
       "      <td>-2.109247</td>\n",
       "      <td>-1.283938</td>\n",
       "      <td>-0.857723</td>\n",
       "      <td>0.501894</td>\n",
       "      <td>2.111430</td>\n",
       "    </tr>\n",
       "    <tr>\n",
       "      <th>2015-01-05</th>\n",
       "      <td>0.060847</td>\n",
       "      <td>-0.736981</td>\n",
       "      <td>-3.233569</td>\n",
       "      <td>0.951044</td>\n",
       "      <td>2.424618</td>\n",
       "    </tr>\n",
       "  </tbody>\n",
       "</table>\n",
       "</div>"
      ],
      "text/plain": [
       "              IGV.MQ    TAE.HZ    IIQ.AJ    FQU.VL    BJX.ZX\n",
       "2015-01-01 -1.765827 -0.509427 -0.244604 -0.408546 -0.966016\n",
       "2015-01-02 -1.616644 -1.765813 -1.722173 -0.091165 -0.759200\n",
       "2015-01-03 -0.327747 -1.605062 -1.044393 -0.867000 -0.228630\n",
       "2015-01-04 -2.109247 -1.283938 -0.857723  0.501894  2.111430\n",
       "2015-01-05  0.060847 -0.736981 -3.233569  0.951044  2.424618"
      ]
     },
     "execution_count": 2,
     "metadata": {},
     "output_type": "execute_result"
    }
   ],
   "source": [
    "df = cf.datagen.lines()\n",
    "df.head()"
   ]
  },
  {
   "cell_type": "markdown",
   "metadata": {},
   "source": [
    "Plotting through the `plotly` interface"
   ]
  },
  {
   "cell_type": "code",
   "execution_count": 3,
   "metadata": {},
   "outputs": [
    {
     "data": {
      "text/html": [
       "<iframe id=\"igraph\" scrolling=\"no\" style=\"border:none;\" seamless=\"seamless\" src=\"https://plot.ly/~apryor6/1.embed\" height=\"525px\" width=\"100%\"></iframe>"
      ],
      "text/plain": [
       "<plotly.tools.PlotlyDisplay object>"
      ]
     },
     "execution_count": 3,
     "metadata": {},
     "output_type": "execute_result"
    }
   ],
   "source": [
    "py.iplot([{\n",
    "    'x': df.index,\n",
    "    'y': df[col],\n",
    "    'name': col\n",
    "}  for col in df.columns], filename='simple-line')"
   ]
  },
  {
   "cell_type": "markdown",
   "metadata": {},
   "source": [
    "Alternatively, use `cufflinks` to access `iplot` through `pandas`"
   ]
  },
  {
   "cell_type": "code",
   "execution_count": 4,
   "metadata": {
    "collapsed": true
   },
   "outputs": [],
   "source": [
    "p = df.iplot(kind='scatter', filename='simple-line', asFigure=True)"
   ]
  },
  {
   "cell_type": "code",
   "execution_count": 5,
   "metadata": {},
   "outputs": [
    {
     "name": "stdout",
     "output_type": "stream",
     "text": [
      "Figure(\n",
      "    data=Data([\n",
      "        Scatter(\n",
      "            x=['2015-01-01', '2015-01-02', '2015-01-03', '2015-01-04', '..'  ],\n",
      "            y=array([-1.76582727, -1.61664405, -0.32774733, -2.10924706,  0...,\n",
      "            line=Line(\n",
      "                color='rgba(255, 153, 51, 1.0)',\n",
      "                dash='solid',\n",
      "                width=1.3\n",
      "            ),\n",
      "            mode='lines',\n",
      "            name='IGV.MQ',\n",
      "            text=''\n",
      "        ),\n",
      "        Scatter(\n",
      "            x=['2015-01-01', '2015-01-02', '2015-01-03', '2015-01-04', '..'  ],\n",
      "            y=array([ -0.50942682,  -1.76581333,  -1.60506214,  -1.28393768,..,\n",
      "            line=Line(\n",
      "                color='rgba(55, 128, 191, 1.0)',\n",
      "                dash='solid',\n",
      "                width=1.3\n",
      "            ),\n",
      "            mode='lines',\n",
      "            name='TAE.HZ',\n",
      "            text=''\n",
      "        ),\n",
      "        Scatter(\n",
      "            x=['2015-01-01', '2015-01-02', '2015-01-03', '2015-01-04', '..'  ],\n",
      "            y=array([ -0.24460414,  -1.72217261,  -1.04439348,  -0.85772345,..,\n",
      "            line=Line(\n",
      "                color='rgba(50, 171, 96, 1.0)',\n",
      "                dash='solid',\n",
      "                width=1.3\n",
      "            ),\n",
      "            mode='lines',\n",
      "            name='IIQ.AJ',\n",
      "            text=''\n",
      "        ),\n",
      "        Scatter(\n",
      "            x=['2015-01-01', '2015-01-02', '2015-01-03', '2015-01-04', '..'  ],\n",
      "            y=array([-0.40854624, -0.09116463, -0.86700049,  0.50189359,  0...,\n",
      "            line=Line(\n",
      "                color='rgba(128, 0, 128, 1.0)',\n",
      "                dash='solid',\n",
      "                width=1.3\n",
      "            ),\n",
      "            mode='lines',\n",
      "            name='FQU.VL',\n",
      "            text=''\n",
      "        ),\n",
      "        Scatter(\n",
      "            x=['2015-01-01', '2015-01-02', '2015-01-03', '2015-01-04', '..'  ],\n",
      "            y=array([ -0.9660157 ,  -0.75920019,  -0.2286299 ,   2.11143014,..,\n",
      "            line=Line(\n",
      "                color='rgba(219, 64, 82, 1.0)',\n",
      "                dash='solid',\n",
      "                width=1.3\n",
      "            ),\n",
      "            mode='lines',\n",
      "            name='BJX.ZX',\n",
      "            text=''\n",
      "        )\n",
      "    ]),\n",
      "    layout=Layout(\n",
      "        legend=Legend(\n",
      "            bgcolor='#F5F6F9',\n",
      "            font=Font(\n",
      "                color='#4D5663'\n",
      "            )\n",
      "        ),\n",
      "        paper_bgcolor='#F5F6F9',\n",
      "        plot_bgcolor='#F5F6F9',\n",
      "        titlefont=dict(\n",
      "            color='#4D5663'\n",
      "        ),\n",
      "        xaxis1=XAxis(\n",
      "            gridcolor='#E1E5ED',\n",
      "            showgrid=True,\n",
      "            tickfont=dict(\n",
      "                color='#4D5663'\n",
      "            ),\n",
      "            title='',\n",
      "            titlefont=dict(\n",
      "                color='#4D5663'\n",
      "            ),\n",
      "            zerolinecolor='#E1E5ED'\n",
      "        ),\n",
      "        yaxis1=YAxis(\n",
      "            gridcolor='#E1E5ED',\n",
      "            showgrid=True,\n",
      "            tickfont=dict(\n",
      "                color='#4D5663'\n",
      "            ),\n",
      "            title='',\n",
      "            titlefont=dict(\n",
      "                color='#4D5663'\n",
      "            ),\n",
      "            zerolinecolor='#E1E5ED'\n",
      "        )\n",
      "    )\n",
      ")\n"
     ]
    }
   ],
   "source": [
    "print(p.to_string())"
   ]
  },
  {
   "cell_type": "code",
   "execution_count": 6,
   "metadata": {},
   "outputs": [
    {
     "data": {
      "text/plain": [
       "['data', 'frames', 'layout']"
      ]
     },
     "execution_count": 6,
     "metadata": {},
     "output_type": "execute_result"
    }
   ],
   "source": [
    "dir(p)"
   ]
  },
  {
   "cell_type": "code",
   "execution_count": 7,
   "metadata": {},
   "outputs": [
    {
     "data": {
      "text/html": [
       "<iframe id=\"igraph\" scrolling=\"no\" style=\"border:none;\" seamless=\"seamless\" src=\"https://plot.ly/~apryor6/37.embed\" height=\"525px\" width=\"100%\"></iframe>"
      ],
      "text/plain": [
       "<plotly.tools.PlotlyDisplay object>"
      ]
     },
     "execution_count": 7,
     "metadata": {},
     "output_type": "execute_result"
    }
   ],
   "source": [
    "py.iplot(p)"
   ]
  },
  {
   "cell_type": "code",
   "execution_count": null,
   "metadata": {
    "collapsed": true
   },
   "outputs": [],
   "source": []
  },
  {
   "cell_type": "code",
   "execution_count": 8,
   "metadata": {},
   "outputs": [
    {
     "data": {
      "text/html": [
       "<iframe id=\"igraph\" scrolling=\"no\" style=\"border:none;\" seamless=\"seamless\" src=\"https://plot.ly/~apryor6/39.embed\" height=\"525px\" width=\"100%\"></iframe>"
      ],
      "text/plain": [
       "<plotly.tools.PlotlyDisplay object>"
      ]
     },
     "execution_count": 8,
     "metadata": {},
     "output_type": "execute_result"
    }
   ],
   "source": [
    "for l in p.data:\n",
    "    pass\n",
    "#     l.line.color = (l.line.color[0] - 0.2, l.line.color[1]-0.2, l.line.color[2]-2)\n",
    "#     l['line']['style'] = 'longdash'\n",
    "#     l['line']['color'] = (0.5,0.5,0.5)\n",
    "    l['line']['color'] = 'red'\n",
    "    l['line']['dash'] = 'longdash'\n",
    "#     print(l['line']['color'])\n",
    "p.data[0].mode = 'lines+markers'\n",
    "py.iplot(p)"
   ]
  },
  {
   "cell_type": "code",
   "execution_count": 9,
   "metadata": {
    "collapsed": true
   },
   "outputs": [],
   "source": [
    "p = py.iplot([{\n",
    "    'x': df.index,\n",
    "    'y': df[col],\n",
    "    'name': col\n",
    "}  for col in df.columns], filename='simple-line')"
   ]
  },
  {
   "cell_type": "code",
   "execution_count": 10,
   "metadata": {},
   "outputs": [
    {
     "data": {
      "text/plain": [
       "plotly.tools.PlotlyDisplay"
      ]
     },
     "execution_count": 10,
     "metadata": {},
     "output_type": "execute_result"
    }
   ],
   "source": [
    "type(p)"
   ]
  },
  {
   "cell_type": "code",
   "execution_count": 11,
   "metadata": {},
   "outputs": [
    {
     "data": {
      "text/plain": [
       "['__add__',\n",
       " '__class__',\n",
       " '__contains__',\n",
       " '__delattr__',\n",
       " '__dir__',\n",
       " '__doc__',\n",
       " '__eq__',\n",
       " '__format__',\n",
       " '__ge__',\n",
       " '__getattribute__',\n",
       " '__getitem__',\n",
       " '__getnewargs__',\n",
       " '__gt__',\n",
       " '__hash__',\n",
       " '__init__',\n",
       " '__init_subclass__',\n",
       " '__iter__',\n",
       " '__le__',\n",
       " '__len__',\n",
       " '__lt__',\n",
       " '__mod__',\n",
       " '__mul__',\n",
       " '__ne__',\n",
       " '__new__',\n",
       " '__reduce__',\n",
       " '__reduce_ex__',\n",
       " '__repr__',\n",
       " '__rmod__',\n",
       " '__rmul__',\n",
       " '__setattr__',\n",
       " '__sizeof__',\n",
       " '__str__',\n",
       " '__subclasshook__',\n",
       " 'capitalize',\n",
       " 'casefold',\n",
       " 'center',\n",
       " 'count',\n",
       " 'encode',\n",
       " 'endswith',\n",
       " 'expandtabs',\n",
       " 'find',\n",
       " 'format',\n",
       " 'format_map',\n",
       " 'index',\n",
       " 'isalnum',\n",
       " 'isalpha',\n",
       " 'isdecimal',\n",
       " 'isdigit',\n",
       " 'isidentifier',\n",
       " 'islower',\n",
       " 'isnumeric',\n",
       " 'isprintable',\n",
       " 'isspace',\n",
       " 'istitle',\n",
       " 'isupper',\n",
       " 'join',\n",
       " 'ljust',\n",
       " 'lower',\n",
       " 'lstrip',\n",
       " 'maketrans',\n",
       " 'partition',\n",
       " 'replace',\n",
       " 'rfind',\n",
       " 'rindex',\n",
       " 'rjust',\n",
       " 'rpartition',\n",
       " 'rsplit',\n",
       " 'rstrip',\n",
       " 'split',\n",
       " 'splitlines',\n",
       " 'startswith',\n",
       " 'strip',\n",
       " 'swapcase',\n",
       " 'title',\n",
       " 'translate',\n",
       " 'upper',\n",
       " 'zfill']"
      ]
     },
     "execution_count": 11,
     "metadata": {},
     "output_type": "execute_result"
    }
   ],
   "source": [
    "dir(p.data)"
   ]
  },
  {
   "cell_type": "code",
   "execution_count": 12,
   "metadata": {},
   "outputs": [
    {
     "data": {
      "text/plain": [
       "'<iframe id=\"igraph\" scrolling=\"no\" style=\"border:none;\" seamless=\"seamless\" src=\"https://plot.ly/~apryor6/1.embed\" height=\"525px\" width=\"100%\"></iframe>'"
      ]
     },
     "execution_count": 12,
     "metadata": {},
     "output_type": "execute_result"
    }
   ],
   "source": [
    "p.data"
   ]
  },
  {
   "cell_type": "code",
   "execution_count": 13,
   "metadata": {},
   "outputs": [
    {
     "data": {
      "text/html": [
       "<iframe id=\"igraph\" scrolling=\"no\" style=\"border:none;\" seamless=\"seamless\" src=\"https://plot.ly/~apryor6/7.embed\" height=\"525px\" width=\"100%\"></iframe>"
      ],
      "text/plain": [
       "<plotly.tools.PlotlyDisplay object>"
      ]
     },
     "execution_count": 13,
     "metadata": {},
     "output_type": "execute_result"
    }
   ],
   "source": [
    "trace = go.Scatter(\n",
    "    x = df.index,\n",
    "    y = df.iloc[:,1],\n",
    "    mode = 'markers'\n",
    ")\n",
    "\n",
    "data = [trace]\n",
    "\n",
    "# Plot and embed in ipython notebook!\n",
    "py.iplot(data, filename='basic-scatter')"
   ]
  },
  {
   "cell_type": "code",
   "execution_count": null,
   "metadata": {
    "collapsed": true
   },
   "outputs": [],
   "source": []
  }
 ],
 "metadata": {
  "kernelspec": {
   "display_name": "Python 3",
   "language": "python",
   "name": "python3"
  },
  "language_info": {
   "codemirror_mode": {
    "name": "ipython",
    "version": 3
   },
   "file_extension": ".py",
   "mimetype": "text/x-python",
   "name": "python",
   "nbconvert_exporter": "python",
   "pygments_lexer": "ipython3",
   "version": "3.6.1"
  }
 },
 "nbformat": 4,
 "nbformat_minor": 2
}
