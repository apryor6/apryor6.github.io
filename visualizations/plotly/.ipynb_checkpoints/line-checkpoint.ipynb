{
 "cells": [
  {
   "cell_type": "markdown",
   "metadata": {},
   "source": [
    "# Line Chart\n",
    "Interactive line charts with `plotly` and `cufflinks`  \n",
    "\n",
    "dataset: `cufflinks.datagen.lines()`"
   ]
  },
  {
   "cell_type": "code",
   "execution_count": 94,
   "metadata": {
    "collapsed": true
   },
   "outputs": [],
   "source": [
    "import plotly.plotly as py\n",
    "import cufflinks as cf\n",
    "import pandas as pd\n",
    "import numpy as np\n",
    "import plotly.graph_objs as go\n",
    "%matplotlib inline"
   ]
  },
  {
   "cell_type": "code",
   "execution_count": 95,
   "metadata": {},
   "outputs": [
    {
     "data": {
      "text/html": [
       "<div>\n",
       "<style>\n",
       "    .dataframe thead tr:only-child th {\n",
       "        text-align: right;\n",
       "    }\n",
       "\n",
       "    .dataframe thead th {\n",
       "        text-align: left;\n",
       "    }\n",
       "\n",
       "    .dataframe tbody tr th {\n",
       "        vertical-align: top;\n",
       "    }\n",
       "</style>\n",
       "<table border=\"1\" class=\"dataframe\">\n",
       "  <thead>\n",
       "    <tr style=\"text-align: right;\">\n",
       "      <th></th>\n",
       "      <th>JWL.UX</th>\n",
       "      <th>BWK.XN</th>\n",
       "      <th>SEB.HG</th>\n",
       "      <th>XSI.ZX</th>\n",
       "      <th>RDE.CJ</th>\n",
       "    </tr>\n",
       "  </thead>\n",
       "  <tbody>\n",
       "    <tr>\n",
       "      <th>2015-01-01</th>\n",
       "      <td>-0.757131</td>\n",
       "      <td>-0.864369</td>\n",
       "      <td>2.399753</td>\n",
       "      <td>0.921486</td>\n",
       "      <td>0.720824</td>\n",
       "    </tr>\n",
       "    <tr>\n",
       "      <th>2015-01-02</th>\n",
       "      <td>1.065374</td>\n",
       "      <td>-1.263472</td>\n",
       "      <td>2.761705</td>\n",
       "      <td>0.550748</td>\n",
       "      <td>-0.369328</td>\n",
       "    </tr>\n",
       "    <tr>\n",
       "      <th>2015-01-03</th>\n",
       "      <td>0.490702</td>\n",
       "      <td>0.846537</td>\n",
       "      <td>2.033277</td>\n",
       "      <td>1.914639</td>\n",
       "      <td>0.689105</td>\n",
       "    </tr>\n",
       "    <tr>\n",
       "      <th>2015-01-04</th>\n",
       "      <td>0.901229</td>\n",
       "      <td>0.591372</td>\n",
       "      <td>0.419805</td>\n",
       "      <td>2.224403</td>\n",
       "      <td>1.475613</td>\n",
       "    </tr>\n",
       "    <tr>\n",
       "      <th>2015-01-05</th>\n",
       "      <td>0.304475</td>\n",
       "      <td>1.072849</td>\n",
       "      <td>1.153209</td>\n",
       "      <td>1.571708</td>\n",
       "      <td>1.429304</td>\n",
       "    </tr>\n",
       "  </tbody>\n",
       "</table>\n",
       "</div>"
      ],
      "text/plain": [
       "              JWL.UX    BWK.XN    SEB.HG    XSI.ZX    RDE.CJ\n",
       "2015-01-01 -0.757131 -0.864369  2.399753  0.921486  0.720824\n",
       "2015-01-02  1.065374 -1.263472  2.761705  0.550748 -0.369328\n",
       "2015-01-03  0.490702  0.846537  2.033277  1.914639  0.689105\n",
       "2015-01-04  0.901229  0.591372  0.419805  2.224403  1.475613\n",
       "2015-01-05  0.304475  1.072849  1.153209  1.571708  1.429304"
      ]
     },
     "execution_count": 95,
     "metadata": {},
     "output_type": "execute_result"
    }
   ],
   "source": [
    "df = cf.datagen.lines()\n",
    "df.head()"
   ]
  },
  {
   "cell_type": "markdown",
   "metadata": {},
   "source": [
    "Plotting through the `plotly` interface"
   ]
  },
  {
   "cell_type": "code",
   "execution_count": 96,
   "metadata": {},
   "outputs": [
    {
     "data": {
      "text/html": [
       "<iframe id=\"igraph\" scrolling=\"no\" style=\"border:none;\" seamless=\"seamless\" src=\"https://plot.ly/~apryor6/1.embed\" height=\"525px\" width=\"100%\"></iframe>"
      ],
      "text/plain": [
       "<plotly.tools.PlotlyDisplay object>"
      ]
     },
     "execution_count": 96,
     "metadata": {},
     "output_type": "execute_result"
    }
   ],
   "source": [
    "py.iplot([{\n",
    "    'x': df.index,\n",
    "    'y': df[col],\n",
    "    'name': col\n",
    "}  for col in df.columns], filename='simple-line')"
   ]
  },
  {
   "cell_type": "markdown",
   "metadata": {},
   "source": [
    "Alternatively, use `cufflinks` to access `iplot` through `pandas`"
   ]
  },
  {
   "cell_type": "code",
   "execution_count": 97,
   "metadata": {},
   "outputs": [],
   "source": [
    "p = df.iplot(kind='scatter', filename='simple-line', asFigure=True)"
   ]
  },
  {
   "cell_type": "code",
   "execution_count": 98,
   "metadata": {},
   "outputs": [
    {
     "name": "stdout",
     "output_type": "stream",
     "text": [
      "Figure(\n",
      "    data=Data([\n",
      "        Scatter(\n",
      "            x=['2015-01-01', '2015-01-02', '2015-01-03', '2015-01-04', '..'  ],\n",
      "            y=array([-0.7571311 ,  1.06537441,  0.49070172,  0.9012289 ,  0...,\n",
      "            line=Line(\n",
      "                color='rgba(255, 153, 51, 1.0)',\n",
      "                dash='solid',\n",
      "                width=1.3\n",
      "            ),\n",
      "            mode='lines',\n",
      "            name='JWL.UX',\n",
      "            text=''\n",
      "        ),\n",
      "        Scatter(\n",
      "            x=['2015-01-01', '2015-01-02', '2015-01-03', '2015-01-04', '..'  ],\n",
      "            y=array([-0.8643691 , -1.26347193,  0.84653712,  0.59137176,  1...,\n",
      "            line=Line(\n",
      "                color='rgba(55, 128, 191, 1.0)',\n",
      "                dash='solid',\n",
      "                width=1.3\n",
      "            ),\n",
      "            mode='lines',\n",
      "            name='BWK.XN',\n",
      "            text=''\n",
      "        ),\n",
      "        Scatter(\n",
      "            x=['2015-01-01', '2015-01-02', '2015-01-03', '2015-01-04', '..'  ],\n",
      "            y=array([  2.39975317,   2.76170455,   2.0332771 ,   0.41980509,..,\n",
      "            line=Line(\n",
      "                color='rgba(50, 171, 96, 1.0)',\n",
      "                dash='solid',\n",
      "                width=1.3\n",
      "            ),\n",
      "            mode='lines',\n",
      "            name='SEB.HG',\n",
      "            text=''\n",
      "        ),\n",
      "        Scatter(\n",
      "            x=['2015-01-01', '2015-01-02', '2015-01-03', '2015-01-04', '..'  ],\n",
      "            y=array([ 0.92148579,  0.55074793,  1.91463889,  2.2244029 ,  1...,\n",
      "            line=Line(\n",
      "                color='rgba(128, 0, 128, 1.0)',\n",
      "                dash='solid',\n",
      "                width=1.3\n",
      "            ),\n",
      "            mode='lines',\n",
      "            name='XSI.ZX',\n",
      "            text=''\n",
      "        ),\n",
      "        Scatter(\n",
      "            x=['2015-01-01', '2015-01-02', '2015-01-03', '2015-01-04', '..'  ],\n",
      "            y=array([ 0.72082388, -0.36932796,  0.68910463,  1.47561331,  1...,\n",
      "            line=Line(\n",
      "                color='rgba(219, 64, 82, 1.0)',\n",
      "                dash='solid',\n",
      "                width=1.3\n",
      "            ),\n",
      "            mode='lines',\n",
      "            name='RDE.CJ',\n",
      "            text=''\n",
      "        )\n",
      "    ]),\n",
      "    layout=Layout(\n",
      "        legend=Legend(\n",
      "            bgcolor='#F5F6F9',\n",
      "            font=Font(\n",
      "                color='#4D5663'\n",
      "            )\n",
      "        ),\n",
      "        paper_bgcolor='#F5F6F9',\n",
      "        plot_bgcolor='#F5F6F9',\n",
      "        titlefont=dict(\n",
      "            color='#4D5663'\n",
      "        ),\n",
      "        xaxis1=XAxis(\n",
      "            gridcolor='#E1E5ED',\n",
      "            showgrid=True,\n",
      "            tickfont=dict(\n",
      "                color='#4D5663'\n",
      "            ),\n",
      "            title='',\n",
      "            titlefont=dict(\n",
      "                color='#4D5663'\n",
      "            ),\n",
      "            zerolinecolor='#E1E5ED'\n",
      "        ),\n",
      "        yaxis1=YAxis(\n",
      "            gridcolor='#E1E5ED',\n",
      "            showgrid=True,\n",
      "            tickfont=dict(\n",
      "                color='#4D5663'\n",
      "            ),\n",
      "            title='',\n",
      "            titlefont=dict(\n",
      "                color='#4D5663'\n",
      "            ),\n",
      "            zerolinecolor='#E1E5ED'\n",
      "        )\n",
      "    )\n",
      ")\n"
     ]
    }
   ],
   "source": [
    "print(p.to_string())"
   ]
  },
  {
   "cell_type": "code",
   "execution_count": 99,
   "metadata": {},
   "outputs": [
    {
     "data": {
      "text/plain": [
       "['data', 'frames', 'layout']"
      ]
     },
     "execution_count": 99,
     "metadata": {},
     "output_type": "execute_result"
    }
   ],
   "source": [
    "dir(p)"
   ]
  },
  {
   "cell_type": "code",
   "execution_count": 100,
   "metadata": {},
   "outputs": [
    {
     "data": {
      "text/html": [
       "<iframe id=\"igraph\" scrolling=\"no\" style=\"border:none;\" seamless=\"seamless\" src=\"https://plot.ly/~apryor6/23.embed\" height=\"525px\" width=\"100%\"></iframe>"
      ],
      "text/plain": [
       "<plotly.tools.PlotlyDisplay object>"
      ]
     },
     "execution_count": 100,
     "metadata": {},
     "output_type": "execute_result"
    }
   ],
   "source": [
    "py.iplot(p)"
   ]
  },
  {
   "cell_type": "code",
   "execution_count": null,
   "metadata": {},
   "outputs": [],
   "source": []
  },
  {
   "cell_type": "code",
   "execution_count": 101,
   "metadata": {},
   "outputs": [
    {
     "name": "stdout",
     "output_type": "stream",
     "text": [
      "(0.5, 0.5, 0.5)\n",
      "(0.5, 0.5, 0.5)\n",
      "(0.5, 0.5, 0.5)\n",
      "(0.5, 0.5, 0.5)\n",
      "(0.5, 0.5, 0.5)\n"
     ]
    },
    {
     "data": {
      "text/html": [
       "<iframe id=\"igraph\" scrolling=\"no\" style=\"border:none;\" seamless=\"seamless\" src=\"https://plot.ly/~apryor6/25.embed\" height=\"525px\" width=\"100%\"></iframe>"
      ],
      "text/plain": [
       "<plotly.tools.PlotlyDisplay object>"
      ]
     },
     "execution_count": 101,
     "metadata": {},
     "output_type": "execute_result"
    }
   ],
   "source": [
    "for l in p.data:\n",
    "    pass\n",
    "#     l.line.color = (l.line.color[0] - 0.2, l.line.color[1]-0.2, l.line.color[2]-2)\n",
    "#     l['line']['style'] = 'longdash'\n",
    "#     l['line']['color'] = (0.5,0.5,0.5)\n",
    "    l['line']['color'] = 'red'\n",
    "#     print(l['line']['color'])\n",
    "py.iplot(p)"
   ]
  },
  {
   "cell_type": "code",
   "execution_count": 102,
   "metadata": {
    "collapsed": true
   },
   "outputs": [],
   "source": [
    "p = py.iplot([{\n",
    "    'x': df.index,\n",
    "    'y': df[col],\n",
    "    'name': col\n",
    "}  for col in df.columns], filename='simple-line')"
   ]
  },
  {
   "cell_type": "code",
   "execution_count": 103,
   "metadata": {},
   "outputs": [
    {
     "data": {
      "text/plain": [
       "plotly.tools.PlotlyDisplay"
      ]
     },
     "execution_count": 103,
     "metadata": {},
     "output_type": "execute_result"
    }
   ],
   "source": [
    "type(p)"
   ]
  },
  {
   "cell_type": "code",
   "execution_count": 104,
   "metadata": {},
   "outputs": [
    {
     "data": {
      "text/plain": [
       "['__add__',\n",
       " '__class__',\n",
       " '__contains__',\n",
       " '__delattr__',\n",
       " '__dir__',\n",
       " '__doc__',\n",
       " '__eq__',\n",
       " '__format__',\n",
       " '__ge__',\n",
       " '__getattribute__',\n",
       " '__getitem__',\n",
       " '__getnewargs__',\n",
       " '__gt__',\n",
       " '__hash__',\n",
       " '__init__',\n",
       " '__init_subclass__',\n",
       " '__iter__',\n",
       " '__le__',\n",
       " '__len__',\n",
       " '__lt__',\n",
       " '__mod__',\n",
       " '__mul__',\n",
       " '__ne__',\n",
       " '__new__',\n",
       " '__reduce__',\n",
       " '__reduce_ex__',\n",
       " '__repr__',\n",
       " '__rmod__',\n",
       " '__rmul__',\n",
       " '__setattr__',\n",
       " '__sizeof__',\n",
       " '__str__',\n",
       " '__subclasshook__',\n",
       " 'capitalize',\n",
       " 'casefold',\n",
       " 'center',\n",
       " 'count',\n",
       " 'encode',\n",
       " 'endswith',\n",
       " 'expandtabs',\n",
       " 'find',\n",
       " 'format',\n",
       " 'format_map',\n",
       " 'index',\n",
       " 'isalnum',\n",
       " 'isalpha',\n",
       " 'isdecimal',\n",
       " 'isdigit',\n",
       " 'isidentifier',\n",
       " 'islower',\n",
       " 'isnumeric',\n",
       " 'isprintable',\n",
       " 'isspace',\n",
       " 'istitle',\n",
       " 'isupper',\n",
       " 'join',\n",
       " 'ljust',\n",
       " 'lower',\n",
       " 'lstrip',\n",
       " 'maketrans',\n",
       " 'partition',\n",
       " 'replace',\n",
       " 'rfind',\n",
       " 'rindex',\n",
       " 'rjust',\n",
       " 'rpartition',\n",
       " 'rsplit',\n",
       " 'rstrip',\n",
       " 'split',\n",
       " 'splitlines',\n",
       " 'startswith',\n",
       " 'strip',\n",
       " 'swapcase',\n",
       " 'title',\n",
       " 'translate',\n",
       " 'upper',\n",
       " 'zfill']"
      ]
     },
     "execution_count": 104,
     "metadata": {},
     "output_type": "execute_result"
    }
   ],
   "source": [
    "dir(p.data)"
   ]
  },
  {
   "cell_type": "code",
   "execution_count": 105,
   "metadata": {},
   "outputs": [
    {
     "data": {
      "text/plain": [
       "'<iframe id=\"igraph\" scrolling=\"no\" style=\"border:none;\" seamless=\"seamless\" src=\"https://plot.ly/~apryor6/1.embed\" height=\"525px\" width=\"100%\"></iframe>'"
      ]
     },
     "execution_count": 105,
     "metadata": {},
     "output_type": "execute_result"
    }
   ],
   "source": [
    "p.data"
   ]
  },
  {
   "cell_type": "code",
   "execution_count": 106,
   "metadata": {},
   "outputs": [
    {
     "data": {
      "text/html": [
       "<iframe id=\"igraph\" scrolling=\"no\" style=\"border:none;\" seamless=\"seamless\" src=\"https://plot.ly/~apryor6/7.embed\" height=\"525px\" width=\"100%\"></iframe>"
      ],
      "text/plain": [
       "<plotly.tools.PlotlyDisplay object>"
      ]
     },
     "execution_count": 106,
     "metadata": {},
     "output_type": "execute_result"
    }
   ],
   "source": [
    "trace = go.Scatter(\n",
    "    x = df.index,\n",
    "    y = df.iloc[:,1],\n",
    "    mode = 'markers'\n",
    ")\n",
    "\n",
    "data = [trace]\n",
    "\n",
    "# Plot and embed in ipython notebook!\n",
    "py.iplot(data, filename='basic-scatter')"
   ]
  },
  {
   "cell_type": "code",
   "execution_count": null,
   "metadata": {
    "collapsed": true
   },
   "outputs": [],
   "source": []
  }
 ],
 "metadata": {
  "kernelspec": {
   "display_name": "Python 3",
   "language": "python",
   "name": "python3"
  },
  "language_info": {
   "codemirror_mode": {
    "name": "ipython",
    "version": 3
   },
   "file_extension": ".py",
   "mimetype": "text/x-python",
   "name": "python",
   "nbconvert_exporter": "python",
   "pygments_lexer": "ipython3",
   "version": "3.6.1"
  }
 },
 "nbformat": 4,
 "nbformat_minor": 2
}
