{
 "cells": [
  {
   "cell_type": "markdown",
   "metadata": {},
   "source": [
    "# Bokeh Square Glyph"
   ]
  },
  {
   "cell_type": "code",
   "execution_count": 2,
   "metadata": {},
   "outputs": [
    {
     "name": "stderr",
     "output_type": "stream",
     "text": [
      "E-1001 (BAD_COLUMN_NAME): Glyph refers to nonexistent column name: #black [renderer: GlyphRenderer(id='2e0bf7a1-deed-4d4a-bd5f-80808a842066', ...)]\n",
      "E-1001 (BAD_COLUMN_NAME): Glyph refers to nonexistent column name: #black [renderer: GlyphRenderer(id='7a8f73f8-1e47-4a92-b09d-71e3fd2eb190', ...)]\n",
      "E-1001 (BAD_COLUMN_NAME): Glyph refers to nonexistent column name: #black [renderer: GlyphRenderer(id='c9615949-8d76-473f-b3ae-55d9c9dde2ba', ...)]\n",
      "E-1001 (BAD_COLUMN_NAME): Glyph refers to nonexistent column name: #black [renderer: GlyphRenderer(id='d4042967-3518-4da4-896c-cfb01803858b', ...)]\n",
      "E-1001 (BAD_COLUMN_NAME): Glyph refers to nonexistent column name: #black [renderer: GlyphRenderer(id='2e0bf7a1-deed-4d4a-bd5f-80808a842066', ...)]\n",
      "E-1001 (BAD_COLUMN_NAME): Glyph refers to nonexistent column name: #black [renderer: GlyphRenderer(id='7a8f73f8-1e47-4a92-b09d-71e3fd2eb190', ...)]\n",
      "E-1001 (BAD_COLUMN_NAME): Glyph refers to nonexistent column name: #black [renderer: GlyphRenderer(id='c9615949-8d76-473f-b3ae-55d9c9dde2ba', ...)]\n",
      "E-1001 (BAD_COLUMN_NAME): Glyph refers to nonexistent column name: #black [renderer: GlyphRenderer(id='d4042967-3518-4da4-896c-cfb01803858b', ...)]\n",
      "WARNING:bokeh.io:The webdriver raised a TimeoutException while waiting for                      a 'bokeh:idle' event to signify that the layout has rendered.                      Something may have gone wrong.\n"
     ]
    }
   ],
   "source": [
    "from bokeh.plotting import figure, output_file, show\n",
    "from bokeh.models import Range1d\n",
    "from bokeh.io import export_png\n",
    "\n",
    "fill_color = '#af8dc3'\n",
    "line_color = '#7fbf7b'\n",
    "output_file(\"../../figures/square.html\")\n",
    "\n",
    "p = figure(plot_width=400, plot_height=400)\n",
    "p.square(x=0,y=0,size=100, fill_alpha=1,fill_color=fill_color,\n",
    "         line_alpha=1, line_color=line_color, line_dash='dashed', line_width=5)\n",
    "p.square(x=0,y=1,size=100, fill_alpha=0.8, fill_color=fill_color,\n",
    "         line_alpha=1, line_color=line_color, line_dash='dotdash', line_width=8)\n",
    "p.square(x=1,y=0,size=100, fill_alpha=0.6, fill_color = fill_color,\n",
    "         line_alpha=1, line_color=line_color, line_dash='dotted', line_width=13)\n",
    "p.square(x=1,y=1,size=100, fill_alpha=0.4, fill_color = fill_color,\n",
    "         line_alpha=1, line_color=line_color, line_dash='solid', line_width=17)\n",
    "p.x_range = Range1d(-0.5,1.5, bounds=(-1,2))\n",
    "p.y_range = Range1d(-0.5,1.5, bounds=(-1,2))\n",
    "show(p)\n",
    "export_png(p, filename=\"../../figures/square.png\");"
   ]
  }
 ],
 "metadata": {
  "kernelspec": {
   "display_name": "Python 3",
   "language": "python",
   "name": "python3"
  },
  "language_info": {
   "codemirror_mode": {
    "name": "ipython",
    "version": 3
   },
   "file_extension": ".py",
   "mimetype": "text/x-python",
   "name": "python",
   "nbconvert_exporter": "python",
   "pygments_lexer": "ipython3",
   "version": "3.6.1"
  }
 },
 "nbformat": 4,
 "nbformat_minor": 2
}
