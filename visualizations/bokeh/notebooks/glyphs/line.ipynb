{
 "cells": [
  {
   "cell_type": "markdown",
   "metadata": {},
   "source": [
    "# Bokeh Line Glyph"
   ]
  },
  {
   "cell_type": "code",
   "execution_count": 1,
   "metadata": {},
   "outputs": [],
   "source": [
    "from bokeh.plotting import figure, output_file, show\n",
    "from bokeh.models import Range1d\n",
    "from bokeh.io import export_png\n",
    "\n",
    "line_colors = ['#e41a1c','#377eb8','#4daf4a','#984ea3']\n",
    "output_file(\"../../figures/line.html\")\n",
    "\n",
    "p = figure(plot_width=400, plot_height=400)\n",
    "p.line(x=[0, 1],y=[0, .5],\n",
    "         line_alpha=1, line_color=line_colors[0], line_dash='solid', line_width=10)\n",
    "p.line(x=[0, 1],y=[0.25, 0.75],\n",
    "         line_alpha=1, line_color=line_colors[1], line_dash='dotdash', line_width=10)\n",
    "p.line(x=[0, 1],y=[0.5, 1],\n",
    "         line_alpha=1, line_color=line_colors[2], line_dash='dashed', line_width=10)\n",
    "p.line(x=[0, 1],y=[0.75, 1.25],\n",
    "         line_alpha=1, line_color=line_colors[3], line_dash='dotted', line_width=10)\n",
    "p.x_range = Range1d(-0.25,1.2, bounds=(-1,2))\n",
    "p.y_range = Range1d(-0.25,1.2, bounds=(-1,2))\n",
    "show(p)\n",
    "export_png(p, filename=\"../../figures/line.png\");"
   ]
  }
 ],
 "metadata": {
  "kernelspec": {
   "display_name": "Python 3",
   "language": "python",
   "name": "python3"
  },
  "language_info": {
   "codemirror_mode": {
    "name": "ipython",
    "version": 3
   },
   "file_extension": ".py",
   "mimetype": "text/x-python",
   "name": "python",
   "nbconvert_exporter": "python",
   "pygments_lexer": "ipython3",
   "version": "3.5.2"
  }
 },
 "nbformat": 4,
 "nbformat_minor": 2
}
