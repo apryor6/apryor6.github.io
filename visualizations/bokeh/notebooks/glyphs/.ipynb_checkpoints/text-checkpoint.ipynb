{
 "cells": [
  {
   "cell_type": "markdown",
   "metadata": {},
   "source": [
    "# Bokeh Text Glyph"
   ]
  },
  {
   "cell_type": "code",
   "execution_count": 1,
   "metadata": {},
   "outputs": [],
   "source": [
    "from bokeh.plotting import figure, output_file, show\n",
    "from bokeh.models import Range1d, ColumnDataSource\n",
    "from bokeh.io import export_png\n",
    "from math import pi\n",
    "import numpy as np\n",
    "import matplotlib.cm as cm\n",
    "import pandas as pd\n",
    "import string\n",
    "\n",
    "output_file(\"../../figures/text.html\")\n",
    "num_lines = 24\n",
    "df = pd.DataFrame(dict(\n",
    "x0 = [0.5]*num_lines,\n",
    "y0 = [0.5]*num_lines,\n",
    "text_font_size = '16pt',\n",
    "text = [letter for letter in string.ascii_letters[:num_lines]],\n",
    "length = np.linspace(0.1,0.9,num_lines),\n",
    "angle = np.linspace(0,4*pi,num_lines, endpoint=False)\n",
    "))\n",
    "\n",
    "df['x1'] = df['x0'] + df['length'] * np.cos(df['angle'])\n",
    "df['y1'] = df['y0'] + df['length'] * np.sin(df['angle'])\n",
    "\n",
    "cmap = cm.get_cmap('inferno')\n",
    "df['colors'] = [\"#%02x%02x%02x\" % (int(r), int(g), int(b)) for r, g, b, a in 255*cmap(df['length'])]\n",
    "source = ColumnDataSource(df) \n",
    "\n",
    "p = figure(plot_width=400, plot_height=400)\n",
    "p.text(x='x1', y='y1', text='text', source=source, angle='angle', text_font_size=\"14pt\")\n",
    "p.x_range = Range1d(-0.75, 1.75, bounds=(-1,2))\n",
    "p.y_range = Range1d(-0.75, 1.75, bounds=(-1,2))\n",
    "show(p)\n",
    "export_png(p, filename=\"../../figures/text.png\");"
   ]
  }
 ],
 "metadata": {
  "kernelspec": {
   "display_name": "Python 3",
   "language": "python",
   "name": "python3"
  },
  "language_info": {
   "codemirror_mode": {
    "name": "ipython",
    "version": 3
   },
   "file_extension": ".py",
   "mimetype": "text/x-python",
   "name": "python",
   "nbconvert_exporter": "python",
   "pygments_lexer": "ipython3",
   "version": "3.6.1"
  }
 },
 "nbformat": 4,
 "nbformat_minor": 2
}
