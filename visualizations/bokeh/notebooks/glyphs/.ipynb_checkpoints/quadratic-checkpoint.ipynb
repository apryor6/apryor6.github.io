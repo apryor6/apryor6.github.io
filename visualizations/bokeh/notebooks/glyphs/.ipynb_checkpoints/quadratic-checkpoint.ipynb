{
 "cells": [
  {
   "cell_type": "markdown",
   "metadata": {},
   "source": [
    "# Bokeh Quadratic Glyph"
   ]
  },
  {
   "cell_type": "code",
   "execution_count": 14,
   "metadata": {},
   "outputs": [
    {
     "name": "stderr",
     "output_type": "stream",
     "text": [
      "E-1001 (BAD_COLUMN_NAME): Glyph refers to nonexistent column name: firebrick; [renderer: GlyphRenderer(id='9be04e8f-00d8-472e-9c7c-a918e578d166', ...)]\n",
      "E-1001 (BAD_COLUMN_NAME): Glyph refers to nonexistent column name: firebrick; [renderer: GlyphRenderer(id='9be04e8f-00d8-472e-9c7c-a918e578d166', ...)]\n",
      "WARNING:bokeh.io:The webdriver raised a TimeoutException while waiting for                      a 'bokeh:idle' event to signify that the layout has rendered.                      Something may have gone wrong.\n"
     ]
    }
   ],
   "source": [
    "from bokeh.plotting import figure, output_file, show\n",
    "from bokeh.models import Range1d, ColumnDataSource\n",
    "from bokeh.io import export_png\n",
    "\n",
    "line_color = 'firebrick'\n",
    "output_file(\"../../figures/quadratic.html\")\n",
    "source = ColumnDataSource(dict(\n",
    "x0 = [0,0,1,1],\n",
    "y0 = [0,0,1,1],\n",
    "x1 = [0,1,0,1],\n",
    "y1 = [0,0,1,1],\n",
    "cx = [0,0,1,1],\n",
    "cy = [0,1,0,1]\n",
    "))\n",
    "p = figure(plot_width=400, plot_height=400)\n",
    "p.quadratic(x0='x0',y0='y0',x1='x1',y1='y1', cx='cx',cy='cy', source=source,\n",
    "         line_alpha=1, line_color=line_color, line_dash='solid', line_width=5)\n",
    "p.x_range = Range1d(-0.25,1.35, bounds=(-1,2))\n",
    "p.y_range = Range1d(-0.25,1.35, bounds=(-1,2))\n",
    "show(p)\n",
    "export_png(p, filename=\"../../figures/quadratic.png\");"
   ]
  }
 ],
 "metadata": {
  "kernelspec": {
   "display_name": "Python 3",
   "language": "python",
   "name": "python3"
  },
  "language_info": {
   "codemirror_mode": {
    "name": "ipython",
    "version": 3
   },
   "file_extension": ".py",
   "mimetype": "text/x-python",
   "name": "python",
   "nbconvert_exporter": "python",
   "pygments_lexer": "ipython3",
   "version": "3.5.2"
  }
 },
 "nbformat": 4,
 "nbformat_minor": 2
}
