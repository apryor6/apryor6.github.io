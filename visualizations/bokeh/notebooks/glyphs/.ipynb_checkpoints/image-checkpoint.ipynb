{
 "cells": [
  {
   "cell_type": "markdown",
   "metadata": {},
   "source": [
    "# Bokeh Image Glyph"
   ]
  },
  {
   "cell_type": "code",
   "execution_count": 23,
   "metadata": {},
   "outputs": [],
   "source": [
    "from bokeh.plotting import figure, output_file, show\n",
    "from bokeh.models import Range1d\n",
    "from bokeh.models.mappers import ColorMapper\n",
    "import numpy as np\n",
    "\n",
    "line_color = '#1f78b4'\n",
    "fill_color = 'black'\n",
    "output_file(\"../../figures/glyph-image.html\")\n",
    "\n",
    "N = 1024\n",
    "nc = N//2\n",
    "xx, yy = np.meshgrid(np.arange(N)-nc, np.arange(N)-nc)\n",
    "img = np.sqrt(xx**2 + yy**2)\n",
    "p = figure(plot_width=400, plot_height=400)\n",
    "p.image(x=-nc, y=-nc, image=[img], dw=N, dh=N, palette=\"Spectral11\")\n",
    "p.x_range = Range1d(-nc, nc, bounds=(-nc, nc))\n",
    "p.y_range = Range1d(-nc, nc, bounds=(-nc, nc))\n",
    "show(p)"
   ]
  }
 ],
 "metadata": {
  "kernelspec": {
   "display_name": "Python 3",
   "language": "python",
   "name": "python3"
  },
  "language_info": {
   "codemirror_mode": {
    "name": "ipython",
    "version": 3
   },
   "file_extension": ".py",
   "mimetype": "text/x-python",
   "name": "python",
   "nbconvert_exporter": "python",
   "pygments_lexer": "ipython3",
   "version": "3.5.2"
  }
 },
 "nbformat": 4,
 "nbformat_minor": 2
}
