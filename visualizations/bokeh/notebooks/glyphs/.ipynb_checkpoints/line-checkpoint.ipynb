{
 "cells": [
  {
   "cell_type": "markdown",
   "metadata": {},
   "source": [
    "# Bokeh Line Glyph"
   ]
  },
  {
   "cell_type": "code",
   "execution_count": 1,
   "metadata": {},
   "outputs": [
    {
     "ename": "SyntaxError",
     "evalue": "invalid syntax (<ipython-input-1-c0861c6e9c1f>, line 10)",
     "output_type": "error",
     "traceback": [
      "\u001b[0;36m  File \u001b[0;32m\"<ipython-input-1-c0861c6e9c1f>\"\u001b[0;36m, line \u001b[0;32m10\u001b[0m\n\u001b[0;31m    p.line(x=[0, 0.5],y=[0 .5],size=100, fill_alpha=1,fill_color=fill_color,\u001b[0m\n\u001b[0m                            ^\u001b[0m\n\u001b[0;31mSyntaxError\u001b[0m\u001b[0;31m:\u001b[0m invalid syntax\n"
     ]
    }
   ],
   "source": [
    "from bokeh.plotting import figure, output_file, show\n",
    "from bokeh.models import Range1d\n",
    "from bokeh.io import export_png\n",
    "\n",
    "fill_color = '#a6bddb'\n",
    "line_color = '#1c9099'\n",
    "output_file(\"../../figures/line.html\")\n",
    "\n",
    "p = figure(plot_width=400, plot_height=400)\n",
    "p.line(x=[0, 0.5],y=[0, .5],size=100, fill_alpha=1,fill_color=fill_color,\n",
    "         line_alpha=1, line_color=line_color, line_dash='dashed', line_width=5)\n",
    "p.line(x=[0.25, 0.75],y=[0.25, 0.75],size=100, fill_alpha=0.8, fill_color=fill_color,\n",
    "         line_alpha=1, line_color=line_color, line_dash='dotdash', line_width=8)\n",
    "# p.line(x=1,y=0,size=100, fill_alpha=0.6, fill_color = fill_color,\n",
    "#          line_alpha=1, line_color=line_color, line_dash='dotted', line_width=13)\n",
    "# p.line(x=1,y=1,size=100, fill_alpha=0.4, fill_color = fill_color,\n",
    "#          line_alpha=1, line_color=line_color, line_dash='solid', line_width=17)\n",
    "p.x_range = Range1d(-0.5,1.5, bounds=(-1,2))\n",
    "p.y_range = Range1d(-0.5,1.5, bounds=(-1,2))\n",
    "show(p)\n",
    "export_png(p, filename=\"../../figures/line.png\");"
   ]
  }
 ],
 "metadata": {
  "kernelspec": {
   "display_name": "Python 3",
   "language": "python",
   "name": "python3"
  },
  "language_info": {
   "codemirror_mode": {
    "name": "ipython",
    "version": 3
   },
   "file_extension": ".py",
   "mimetype": "text/x-python",
   "name": "python",
   "nbconvert_exporter": "python",
   "pygments_lexer": "ipython3",
   "version": "3.5.2"
  }
 },
 "nbformat": 4,
 "nbformat_minor": 2
}
