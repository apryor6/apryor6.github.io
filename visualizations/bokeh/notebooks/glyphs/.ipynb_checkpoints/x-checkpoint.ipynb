{
 "cells": [
  {
   "cell_type": "markdown",
   "metadata": {},
   "source": [
    "# Bokeh X Glyph"
   ]
  },
  {
   "cell_type": "code",
   "execution_count": 2,
   "metadata": {},
   "outputs": [
    {
     "name": "stderr",
     "output_type": "stream",
     "text": [
      "WARNING:bokeh.io:The webdriver raised a TimeoutException while waiting for                      a 'bokeh:idle' event to signify that the layout has rendered.                      Something may have gone wrong.\n"
     ]
    }
   ],
   "source": [
    "from bokeh.plotting import figure, output_file, show\n",
    "from bokeh.models import Range1d\n",
    "from bokeh.io import export_png\n",
    "\n",
    "line_color = '#31a354'\n",
    "output_file(\"../../figures/x.html\")\n",
    "\n",
    "p = figure(plot_width=400, plot_height=400)\n",
    "p.x(x=0,y=0,size=100, line_alpha=1, line_color=line_color, line_dash='dashed', line_width=5)\n",
    "p.x(x=0,y=1,size=100, line_alpha=1, line_color=line_color, line_dash='dotdash', line_width=8)\n",
    "p.x(x=1,y=0,size=100, line_alpha=1, line_color=line_color, line_dash='dotted', line_width=13)\n",
    "p.x(x=1,y=1,size=100, line_alpha=1, line_color=line_color, line_dash='solid', line_width=17)\n",
    "p.x_range = Range1d(-0.5,1.5, bounds=(-1,2))\n",
    "p.y_range = Range1d(-0.5,1.5, bounds=(-1,2))\n",
    "show(p)\n",
    "export_png(p, filename=\"../../figures/x.png\");"
   ]
  }
 ],
 "metadata": {
  "kernelspec": {
   "display_name": "Python 3",
   "language": "python",
   "name": "python3"
  },
  "language_info": {
   "codemirror_mode": {
    "name": "ipython",
    "version": 3
   },
   "file_extension": ".py",
   "mimetype": "text/x-python",
   "name": "python",
   "nbconvert_exporter": "python",
   "pygments_lexer": "ipython3",
   "version": "3.6.1"
  }
 },
 "nbformat": 4,
 "nbformat_minor": 2
}
