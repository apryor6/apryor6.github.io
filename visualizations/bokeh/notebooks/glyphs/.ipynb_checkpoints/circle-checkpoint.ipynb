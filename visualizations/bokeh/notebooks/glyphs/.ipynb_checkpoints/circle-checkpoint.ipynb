{
 "cells": [
  {
   "cell_type": "markdown",
   "metadata": {},
   "source": [
    "# Bokeh Circle Glyph"
   ]
  },
  {
   "cell_type": "code",
   "execution_count": 38,
   "metadata": {
    "collapsed": true
   },
   "outputs": [],
   "source": [
    "from bokeh.plotting import figure, output_file, show\n",
    "from bokeh.plotting import figure, output_file, show\n",
    "from bokeh.models import Range1d\n",
    "output_file(\"../../figures/glyph-circle.html\")\n",
    "p = figure()\n",
    "p.circle(x=0,y=0,size=100, fill_alpha=1,fill_color='#fc8d59',\n",
    "         line_alpha=0.4, line_color='#91bfdb',line_dash='dashed',line_width=3.5)\n",
    "p.circle(x=0,y=1,size=100, fill_alpha=0.8, fill_color='#fc8d59',\n",
    "         line_alpha=0.6, line_color='#91bfdb',line_dash='dotdash',line_width=4)\n",
    "p.circle(x=1,y=0,size=100, fill_alpha=0.6, fill_color='#fc8d59',\n",
    "         line_alpha=0.8, line_color='#91bfdb',line_dash='dotted',line_width=5)\n",
    "p.circle(x=1,y=1,size=100, fill_alpha=0.4, fill_color='#fc8d59',\n",
    "         line_alpha=1, line_color='#91bfdb',line_dash='solid',line_width=6)\n",
    "p.x_range = Range1d(-0.5,1.5)\n",
    "p.y_range = Range1d(-0.5,1.5)\n",
    "show(p)"
   ]
  },
  {
   "cell_type": "code",
   "execution_count": 40,
   "metadata": {
    "collapsed": true
   },
   "outputs": [],
   "source": [
    "?p.x_range"
   ]
  },
  {
   "cell_type": "code",
   "execution_count": null,
   "metadata": {
    "collapsed": true
   },
   "outputs": [],
   "source": []
  }
 ],
 "metadata": {
  "kernelspec": {
   "display_name": "Python 3",
   "language": "python",
   "name": "python3"
  },
  "language_info": {
   "codemirror_mode": {
    "name": "ipython",
    "version": 3
   },
   "file_extension": ".py",
   "mimetype": "text/x-python",
   "name": "python",
   "nbconvert_exporter": "python",
   "pygments_lexer": "ipython3",
   "version": "3.6.1"
  }
 },
 "nbformat": 4,
 "nbformat_minor": 2
}
