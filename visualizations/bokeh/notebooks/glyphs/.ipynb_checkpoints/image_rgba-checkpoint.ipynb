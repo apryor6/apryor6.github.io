{
 "cells": [
  {
   "cell_type": "markdown",
   "metadata": {},
   "source": [
    "# Bokeh Image RGBA Glyph"
   ]
  },
  {
   "cell_type": "code",
   "execution_count": 1,
   "metadata": {},
   "outputs": [],
   "source": [
    "from bokeh.plotting import figure, output_file, show\n",
    "from bokeh.models import Range1d\n",
    "from bokeh.models.mappers import ColorMapper\n",
    "import numpy as np\n",
    "from bokeh.io import export_png\n",
    "\n",
    "line_color = '#1f78b4'\n",
    "fill_color = 'black'\n",
    "output_file(\"../../figures/image_rgba.html\")\n",
    "\n",
    "N = 20\n",
    "nc = N//2\n",
    "xx, yy = np.meshgrid(np.arange(N), np.arange(N))\n",
    "r = np.sqrt(xx**2 + yy**2)\n",
    "r /= np.max(r)\n",
    "img = np.zeros((N, N, 4),dtype=np.uint8)\n",
    "img[:, :, 0] = (r*40).astype(np.uint8) \n",
    "img[:, :, 1] = (r*200).astype(np.uint8) \n",
    "img[:, :, 2] = (r*200).astype(np.uint8) \n",
    "img[:, :, 3] = 255\n",
    "p = figure(plot_width=400, plot_height=400)\n",
    "p.image_rgba(x=[0], y=[0], image=[img], dw=[N], dh=[N])\n",
    "p.x_range = Range1d(0, N, bounds=(0, N))\n",
    "p.y_range = Range1d(0, N, bounds=(0, N))\n",
    "show(p)\n",
    "export_png(p, filename=\"../../figures/image_rgba.png\");"
   ]
  }
 ],
 "metadata": {
  "kernelspec": {
   "display_name": "Python 3",
   "language": "python",
   "name": "python3"
  },
  "language_info": {
   "codemirror_mode": {
    "name": "ipython",
    "version": 3
   },
   "file_extension": ".py",
   "mimetype": "text/x-python",
   "name": "python",
   "nbconvert_exporter": "python",
   "pygments_lexer": "ipython3",
   "version": "3.5.2"
  }
 },
 "nbformat": 4,
 "nbformat_minor": 2
}
