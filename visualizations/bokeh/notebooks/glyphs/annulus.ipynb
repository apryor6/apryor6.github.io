{
 "cells": [
  {
   "cell_type": "markdown",
   "metadata": {},
   "source": [
    "# Bokeh Annulus Glyph"
   ]
  },
  {
   "cell_type": "code",
   "execution_count": 1,
   "metadata": {
    "collapsed": true
   },
   "outputs": [],
   "source": [
    "from bokeh.plotting import figure, output_file, show\n",
    "from bokeh.models import Range1d\n",
    "from bokeh.io import export_png\n",
    "\n",
    "fill_color = '#dfc27d'\n",
    "line_color = '#35978f'\n",
    "output_file(\"../../figures/annulus.html\")\n",
    "\n",
    "p = figure(plot_width=400, plot_height=400)\n",
    "p.annulus(inner_radius=0.1, outer_radius=0.2,\n",
    "                x=0,y=0, fill_alpha=1,fill_color=fill_color,\n",
    "                line_alpha=1, line_color=line_color, line_dash='dashed', line_width=5)\n",
    "p.annulus(inner_radius=0.2, outer_radius=0.4,\n",
    "                x=0,y=1, fill_alpha=1,fill_color=fill_color,\n",
    "                line_alpha=1, line_color=line_color, line_dash='dotdash', line_width=5)\n",
    "p.annulus(inner_radius=0.1, outer_radius=0.4,\n",
    "                x=1,y=0, fill_alpha=1,fill_color=fill_color,\n",
    "                line_alpha=1, line_color=line_color, line_dash='dotted', line_width=5)\n",
    "p.annulus(inner_radius=0.35, outer_radius=0.4,\n",
    "                x=1,y=1, fill_alpha=1,fill_color=fill_color,\n",
    "                line_alpha=1, line_color=line_color, line_dash='solid', line_width=5)\n",
    "p.x_range = Range1d(-0.5,1.5, bounds=(-1,2))\n",
    "p.y_range = Range1d(-0.5,1.5, bounds=(-1,2))\n",
    "show(p)\n",
    "export_png(p, filename=\"../../figures/annulus.png\");"
   ]
  }
 ],
 "metadata": {
  "kernelspec": {
   "display_name": "Python 3",
   "language": "python",
   "name": "python3"
  },
  "language_info": {
   "codemirror_mode": {
    "name": "ipython",
    "version": 3
   },
   "file_extension": ".py",
   "mimetype": "text/x-python",
   "name": "python",
   "nbconvert_exporter": "python",
   "pygments_lexer": "ipython3",
   "version": "3.5.2"
  }
 },
 "nbformat": 4,
 "nbformat_minor": 2
}
