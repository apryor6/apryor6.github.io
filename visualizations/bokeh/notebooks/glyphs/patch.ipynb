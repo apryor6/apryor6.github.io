{
 "cells": [
  {
   "cell_type": "markdown",
   "metadata": {},
   "source": [
    "# Bokeh Patch Glyph"
   ]
  },
  {
   "cell_type": "code",
   "execution_count": 1,
   "metadata": {},
   "outputs": [],
   "source": [
    "from bokeh.plotting import figure, output_file, show\n",
    "from bokeh.models import Range1d\n",
    "from bokeh.io import export_png\n",
    "\n",
    "fill_colors = ['#e31a1c','#b2df8a','#a6cee3','#cab2d6']\n",
    "line_colors = ['#e31a1c','#33a02c','#1f78b4','#6a3d9a']\n",
    "output_file(\"../../figures/patch.html\")\n",
    "\n",
    "p = figure(plot_width=400, plot_height=400)\n",
    "p.patch(x=[0, 0.5, 0, 0.5],y=[0, 0.5, 0.5,  0], fill_alpha=1,fill_color=fill_colors[0],\n",
    "         line_alpha=1, line_color=line_colors[0], line_dash='solid', line_width=5)\n",
    "p.patch(x=[0.75 + i for i in [0, 0, 0.5, 0.5]],y=[0, 0.5, 0.5,  0], fill_alpha=1,fill_color=fill_colors[1],\n",
    "         line_alpha=1, line_color=line_colors[1], line_dash='dotdash', line_width=5)\n",
    "p.patch(x=[0.75 + i for i in [0, 0, 0.5, 0.5]],y=[0.75 + i for i in [0.1, 0.29, 0.33,  .69]], fill_alpha=1,fill_color=fill_colors[2],\n",
    "         line_alpha=1, line_color=line_colors[2], line_dash='dashed', line_width=5)\n",
    "p.patch(x=[0, 0, 0.4, 0.34],y=[0.75 + i for i in [0.6, 0.29, 0.33,  .69]], fill_alpha=1,fill_color=fill_colors[3],\n",
    "         line_alpha=1, line_color=line_colors[3], line_dash='dotted', line_width=5)\n",
    "p.x_range = Range1d(-0.5,1.5, bounds=(-1,2))\n",
    "p.y_range = Range1d(-0.5,1.5, bounds=(-1,2))\n",
    "show(p)\n",
    "export_png(p, filename=\"../../figures/patch.png\");"
   ]
  }
 ],
 "metadata": {
  "kernelspec": {
   "display_name": "Python 3",
   "language": "python",
   "name": "python3"
  },
  "language_info": {
   "codemirror_mode": {
    "name": "ipython",
    "version": 3
   },
   "file_extension": ".py",
   "mimetype": "text/x-python",
   "name": "python",
   "nbconvert_exporter": "python",
   "pygments_lexer": "ipython3",
   "version": "3.5.2"
  }
 },
 "nbformat": 4,
 "nbformat_minor": 2
}
