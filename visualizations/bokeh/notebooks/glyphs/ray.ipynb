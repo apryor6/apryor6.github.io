{
 "cells": [
  {
   "cell_type": "markdown",
   "metadata": {},
   "source": [
    "# Bokeh Ray Glyph"
   ]
  },
  {
   "cell_type": "code",
   "execution_count": 1,
   "metadata": {},
   "outputs": [],
   "source": [
    "from bokeh.plotting import figure, output_file, show\n",
    "from bokeh.models import Range1d, ColumnDataSource\n",
    "from bokeh.io import export_png\n",
    "from math import pi\n",
    "import numpy as np\n",
    "import matplotlib.cm as cm\n",
    "import pandas as pd\n",
    "\n",
    "output_file(\"../../figures/ray.html\")\n",
    "num_lines = 51\n",
    "source = pd.DataFrame(dict(\n",
    "x = [0.5]*num_lines,\n",
    "y = [0.5]*num_lines,\n",
    "length = np.linspace(0.1,0.9,num_lines),\n",
    "angle = np.linspace(0,4*pi,num_lines, endpoint=False)\n",
    "))\n",
    "\n",
    "cmap = cm.get_cmap('viridis')\n",
    "source['colors'] = [\"#%02x%02x%02x\" % (int(r), int(g), int(b)) for r, g, b, a in 255*cmap(source['length'])]\n",
    "source = ColumnDataSource(source) \n",
    "\n",
    "p = figure(plot_width=400, plot_height=400)\n",
    "p.ray(x='x', y='y', length='length', angle='angle', source=source, line_cap='round',\n",
    "         line_alpha=1, line_color='colors', line_dash='solid', line_width=5)\n",
    "p.x_range = Range1d(-0.25, 1.25, bounds=(-1,2))\n",
    "p.y_range = Range1d(-0.25, 1.25, bounds=(-1,2))\n",
    "show(p)\n",
    "export_png(p, filename=\"../../figures/ray.png\");"
   ]
  }
 ],
 "metadata": {
  "kernelspec": {
   "display_name": "Python 3",
   "language": "python",
   "name": "python3"
  },
  "language_info": {
   "codemirror_mode": {
    "name": "ipython",
    "version": 3
   },
   "file_extension": ".py",
   "mimetype": "text/x-python",
   "name": "python",
   "nbconvert_exporter": "python",
   "pygments_lexer": "ipython3",
   "version": "3.5.2"
  }
 },
 "nbformat": 4,
 "nbformat_minor": 2
}
