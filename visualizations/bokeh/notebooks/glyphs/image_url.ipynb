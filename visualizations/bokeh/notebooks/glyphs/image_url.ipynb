{
 "cells": [
  {
   "cell_type": "markdown",
   "metadata": {},
   "source": [
    "# Bokeh Image URL Glyph"
   ]
  },
  {
   "cell_type": "code",
   "execution_count": 1,
   "metadata": {},
   "outputs": [],
   "source": [
    "from bokeh.plotting import figure, output_file, show\n",
    "from bokeh.models import Range1d, ColumnDataSource\n",
    "from bokeh.models.mappers import ColorMapper\n",
    "import numpy as np\n",
    "from bokeh.io import export_png\n",
    "p = figure(plot_width=400, plot_height=400)\n",
    "N = 5\n",
    "line_color = '#1f78b4'\n",
    "fill_color = 'black'\n",
    "output_file(\"../../figures/image_url.html\")\n",
    "\n",
    "url = 'https://github.com/prism-em/prism-em.github.io/raw/master/img/PRISM_transparent_512.png'\n",
    "N = 12\n",
    "source = ColumnDataSource(dict(\n",
    "    url = [url]*N,\n",
    "    x1  = 64*np.arange(N),\n",
    "    y1  = np.arange(N)*64 + np.random.rand(N)*32,\n",
    "    w1  = [64]*N,\n",
    "    h1  = [64]*N,\n",
    "))\n",
    "p.image_url(url='url' ,x='x1', y='y1', w='w1', h='h1',source=source, anchor=\"center\")\n",
    "\n",
    "p.x_range = Range1d(-10, 10+32*N)\n",
    "p.y_range = Range1d(10, 10+32*N)\n",
    "show(p)\n",
    "export_png(p, filename=\"../../figures/image_url.png\");"
   ]
  }
 ],
 "metadata": {
  "kernelspec": {
   "display_name": "Python 3",
   "language": "python",
   "name": "python3"
  },
  "language_info": {
   "codemirror_mode": {
    "name": "ipython",
    "version": 3
   },
   "file_extension": ".py",
   "mimetype": "text/x-python",
   "name": "python",
   "nbconvert_exporter": "python",
   "pygments_lexer": "ipython3",
   "version": "3.5.2"
  }
 },
 "nbformat": 4,
 "nbformat_minor": 2
}
