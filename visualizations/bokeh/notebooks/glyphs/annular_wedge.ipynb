{
 "cells": [
  {
   "cell_type": "markdown",
   "metadata": {},
   "source": [
    "# Bokeh Annular Wedge Glyph"
   ]
  },
  {
   "cell_type": "code",
   "execution_count": 17,
   "metadata": {
    "collapsed": true
   },
   "outputs": [],
   "source": [
    "from bokeh.plotting import figure, output_file, show\n",
    "from bokeh.models import Range1d\n",
    "from math import radians\n",
    "\n",
    "fill_color = '#a1d99b'\n",
    "line_color = '#525252'\n",
    "output_file(\"../../figures/glyph-annular-wedge.html\")\n",
    "\n",
    "p = figure(plot_width=400, plot_height=400)\n",
    "p.annular_wedge(inner_radius=0.1, outer_radius=0.2, start_angle=0, end_angle=radians(360),\n",
    "                x=0,y=0, fill_alpha=1,fill_color=fill_color, direction='clock',\n",
    "                line_alpha=1, line_color=line_color, line_dash='dashed', line_width=5)\n",
    "p.annular_wedge(inner_radius=0.2, outer_radius=0.4, start_angle=0, end_angle=radians(270),\n",
    "                x=0,y=1, fill_alpha=1,fill_color=fill_color, direction='clock',\n",
    "                line_alpha=1, line_color=line_color, line_dash='dotdash', line_width=5)\n",
    "p.annular_wedge(inner_radius=0.1, outer_radius=0.4, start_angle=0, end_angle=radians(360),\n",
    "                x=1,y=0, fill_alpha=1,fill_color=fill_color, direction='anticlock',\n",
    "                line_alpha=1, line_color=line_color, line_dash='dotted', line_width=5)\n",
    "p.annular_wedge(inner_radius=0.35, outer_radius=0.4, start_angle=0, end_angle=radians(270),\n",
    "                x=1,y=1, fill_alpha=1,fill_color=fill_color, direction='anticlock',\n",
    "                line_alpha=1, line_color=line_color, line_dash='solid', line_width=5)\n",
    "p.x_range = Range1d(-0.5,1.5, bounds=(-1,2))\n",
    "p.y_range = Range1d(-0.5,1.5, bounds=(-1,2))\n",
    "show(p)"
   ]
  }
 ],
 "metadata": {
  "kernelspec": {
   "display_name": "Python 3",
   "language": "python",
   "name": "python3"
  },
  "language_info": {
   "codemirror_mode": {
    "name": "ipython",
    "version": 3
   },
   "file_extension": ".py",
   "mimetype": "text/x-python",
   "name": "python",
   "nbconvert_exporter": "python",
   "pygments_lexer": "ipython3",
   "version": "3.5.2"
  }
 },
 "nbformat": 4,
 "nbformat_minor": 2
}
