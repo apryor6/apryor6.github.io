{
 "cells": [
  {
   "cell_type": "markdown",
   "metadata": {},
   "source": [
    "# Bokeh Patches Glyph"
   ]
  },
  {
   "cell_type": "code",
   "execution_count": 1,
   "metadata": {},
   "outputs": [],
   "source": [
    "from bokeh.plotting import figure, output_file, show\n",
    "from bokeh.models import Range1d\n",
    "from bokeh.io import export_png\n",
    "\n",
    "fill_colors = ['#e31a1c','#b2df8a','#a6cee3','#cab2d6']\n",
    "line_colors = ['#e31a1c','#33a02c','#1f78b4','#6a3d9a']\n",
    "output_file(\"../../figures/patches.html\")\n",
    "x1 = [0, 0.5, 0, 0.5],\n",
    "x2 = [0.75 + i for i in [0, 0, 0.5, 0.5]]\n",
    "x3 = [0.75 + i for i in [0, 0, 0.5, 0.5]]\n",
    "x4 = [0, 0, 0.4, 0.34]\n",
    "y1 = [0, 0.5, 0.5,  0]\n",
    "y2 = [0.75 + i for i in [0.1, 0.29, 0.33,  .69]]\n",
    "y3 = [0.75 + i for i in [0.6, 0.29, 0.33,  .69]]\n",
    "y4 = [0.75 + i for i in [0.4, 0.39, 0.43,  .69]]\n",
    "p = figure(plot_width=400, plot_height=400)\n",
    "p.patches(xs=[x1, x2, x3, x4], ys=[y1, y2, y3, y4], fill_alpha=1,fill_color=fill_colors[0],\n",
    "         line_alpha=1, line_color=line_colors[0], line_dash='solid', line_width=5)\n",
    "p.x_range = Range1d(-0.25,1.5, bounds=(-1,2))\n",
    "p.y_range = Range1d(0.75,1.5, bounds=(-1,2))\n",
    "show(p)\n",
    "export_png(p, filename=\"../../figures/patches.png\");"
   ]
  }
 ],
 "metadata": {
  "kernelspec": {
   "display_name": "Python 3",
   "language": "python",
   "name": "python3"
  },
  "language_info": {
   "codemirror_mode": {
    "name": "ipython",
    "version": 3
   },
   "file_extension": ".py",
   "mimetype": "text/x-python",
   "name": "python",
   "nbconvert_exporter": "python",
   "pygments_lexer": "ipython3",
   "version": "3.6.1"
  }
 },
 "nbformat": 4,
 "nbformat_minor": 2
}
