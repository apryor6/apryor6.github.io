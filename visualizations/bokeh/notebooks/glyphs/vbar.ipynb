{
 "cells": [
  {
   "cell_type": "markdown",
   "metadata": {},
   "source": [
    "# Bokeh Vbar Glyph"
   ]
  },
  {
   "cell_type": "code",
   "execution_count": 1,
   "metadata": {
    "collapsed": true
   },
   "outputs": [],
   "source": [
    "from bokeh.plotting import figure, output_file, show\n",
    "from bokeh.models import Range1d\n",
    "from bokeh.io import export_png\n",
    "\n",
    "line_color = '#1f78b4'\n",
    "fill_color = 'black'\n",
    "output_file(\"../../figures/vbar.html\")\n",
    "\n",
    "p = figure(plot_width=400, plot_height=400)\n",
    "p.vbar(x=0, bottom=-0.5, top=1.50, width=0.5, fill_alpha=1,fill_color=fill_color,\n",
    "         line_alpha=1, line_color=line_color, line_dash='solid', line_width=5)\n",
    "p.vbar(x=1, bottom=-0.5, top=0.5, width=0.75, fill_alpha=0.8, fill_color=fill_color, \n",
    "         line_alpha=1, line_color=line_color, line_dash='dotdash', line_width=8)\n",
    "p.x_range = Range1d(-0.5,1.5, bounds=(-1,2))\n",
    "p.y_range = Range1d(-0.5,1.5, bounds=(-1,2))\n",
    "show(p)\n",
    "export_png(p, filename=\"../../figures/vbar.png\");"
   ]
  }
 ],
 "metadata": {
  "kernelspec": {
   "display_name": "Python 3",
   "language": "python",
   "name": "python3"
  },
  "language_info": {
   "codemirror_mode": {
    "name": "ipython",
    "version": 3
   },
   "file_extension": ".py",
   "mimetype": "text/x-python",
   "name": "python",
   "nbconvert_exporter": "python",
   "pygments_lexer": "ipython3",
   "version": "3.5.2"
  }
 },
 "nbformat": 4,
 "nbformat_minor": 2
}
